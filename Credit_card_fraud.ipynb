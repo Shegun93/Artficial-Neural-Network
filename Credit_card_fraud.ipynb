{
  "nbformat": 4,
  "nbformat_minor": 0,
  "metadata": {
    "colab": {
      "name": "Credit_card_fraud.ipynb",
      "provenance": [],
      "collapsed_sections": [],
      "toc_visible": true,
      "include_colab_link": true
    },
    "kernelspec": {
      "name": "python3",
      "display_name": "Python 3"
    }
  },
  "cells": [
    {
      "cell_type": "markdown",
      "metadata": {
        "id": "view-in-github",
        "colab_type": "text"
      },
      "source": [
        "<a href=\"https://colab.research.google.com/github/Shegun93/Artficial-Neural-Network/blob/main/Credit_card_fraud.ipynb\" target=\"_parent\"><img src=\"https://colab.research.google.com/assets/colab-badge.svg\" alt=\"Open In Colab\"/></a>"
      ]
    },
    {
      "cell_type": "markdown",
      "metadata": {
        "id": "t9oX7AL3nyLm"
      },
      "source": [
        "#Self Organizing Map"
      ]
    },
    {
      "cell_type": "markdown",
      "metadata": {
        "id": "r9maNhdd65pB"
      },
      "source": [
        "##Install MiniSom Package"
      ]
    },
    {
      "cell_type": "code",
      "metadata": {
        "colab": {
          "base_uri": "https://localhost:8080/"
        },
        "id": "whjtW7zE3Z_V",
        "outputId": "e33029ea-7eb5-4bec-90fc-ef77f5e5996c"
      },
      "source": [
        "!pip install MiniSom"
      ],
      "execution_count": null,
      "outputs": [
        {
          "output_type": "stream",
          "text": [
            "Requirement already satisfied: MiniSom in /usr/local/lib/python3.7/dist-packages (2.2.9)\n"
          ],
          "name": "stdout"
        }
      ]
    },
    {
      "cell_type": "markdown",
      "metadata": {
        "id": "6AX0Y23PnyOI"
      },
      "source": [
        "### Importing the libraries\n"
      ]
    },
    {
      "cell_type": "code",
      "metadata": {
        "id": "58LyJR0F3g6C"
      },
      "source": [
        "import pandas as pd\n",
        "import numpy as np\n",
        "import matplotlib.pyplot as plt\n"
      ],
      "execution_count": null,
      "outputs": []
    },
    {
      "cell_type": "markdown",
      "metadata": {
        "id": "SCl7ERn_n539"
      },
      "source": [
        "## Importing the dataset"
      ]
    },
    {
      "cell_type": "code",
      "metadata": {
        "id": "rH7qon-73wbT"
      },
      "source": [
        "dataset = pd.read_csv('Credit_Card_Applications.csv')\n",
        "X = dataset.iloc[:,:-1].values\n",
        "y = dataset.iloc[:,-1].values"
      ],
      "execution_count": null,
      "outputs": []
    },
    {
      "cell_type": "markdown",
      "metadata": {
        "id": "fYHJ0dd6n-d4"
      },
      "source": [
        "## Feature Scaling\n"
      ]
    },
    {
      "cell_type": "code",
      "metadata": {
        "id": "TSTsHy_l3xDb"
      },
      "source": [
        "from sklearn.preprocessing import MinMaxScaler\n",
        "SC = MinMaxScaler(feature_range=(0,1))\n",
        "X=SC.fit_transform(X)"
      ],
      "execution_count": null,
      "outputs": []
    },
    {
      "cell_type": "markdown",
      "metadata": {
        "id": "aPp-7wfNoAhR"
      },
      "source": [
        "##Training the SOM\n"
      ]
    },
    {
      "cell_type": "code",
      "metadata": {
        "id": "Qudhlv0h4qcO"
      },
      "source": [
        "from minisom import MiniSom\n",
        "som = MiniSom(x=10, y=10, input_len=15, sigma=1.0,learning_rate=0.5)\n",
        "som.random_weights_init(X)\n",
        "som.train_random(data=X, num_iteration=100)"
      ],
      "execution_count": null,
      "outputs": []
    },
    {
      "cell_type": "markdown",
      "metadata": {
        "id": "YiU27C-ToCnH"
      },
      "source": [
        "##Visualizing the results\n"
      ]
    },
    {
      "cell_type": "code",
      "metadata": {
        "colab": {
          "base_uri": "https://localhost:8080/",
          "height": 269
        },
        "id": "mok0OB6z730W",
        "outputId": "c591cc90-0601-4cf5-bc78-60115a248f46"
      },
      "source": [
        "from pylab import bone, pcolor, colorbar, plot, show\n",
        "bone()\n",
        "pcolor(som.distance_map().T)\n",
        "colorbar()\n",
        "markers = ['o', 's']\n",
        "colors = ['r', 'g']\n",
        "for i, x in enumerate(X):\n",
        "    w = som.winner(x)\n",
        "    plot(w[0] + 0.5,\n",
        "         w[1] + 0.5,\n",
        "         markers[y[i]],\n",
        "         markeredgecolor = colors[y[i]],\n",
        "         markerfacecolor = 'None',\n",
        "         markersize = 10,\n",
        "         markeredgewidth = 2)\n",
        "show()"
      ],
      "execution_count": null,
      "outputs": [
        {
          "output_type": "display_data",
          "data": {
            "image/png": "[encoded data removed]",
            "text/plain": [
              "<Figure size 432x288 with 2 Axes>"
            ]
          },
          "metadata": {
            "tags": [],
            "needs_background": "light"
          }
        }
      ]
    },
    {
      "cell_type": "markdown",
      "metadata": {
        "id": "4C-I_jBfoEkP"
      },
      "source": [
        "## Finding the frauds\n"
      ]
    },
    {
      "cell_type": "code",
      "metadata": {
        "id": "1Iq5ITXb9ioc"
      },
      "source": [
        "mappings = som.win_map(X)\n",
        "frauds = np.concatenate((mappings[(5,2)], mappings[(1,6)],mappings[(1,7)]), axis=0)\n"
      ],
      "execution_count": null,
      "outputs": []
    },
    {
      "cell_type": "code",
      "metadata": {
        "id": "hgP5qtF4PzCl"
      },
      "source": [
        "frauds=SC.inverse_transform(frauds)"
      ],
      "execution_count": null,
      "outputs": []
    },
    {
      "cell_type": "code",
      "metadata": {
        "colab": {
          "base_uri": "https://localhost:8080/"
        },
        "id": "rbfO2jWEP1LE",
        "outputId": "163e600a-dd7b-4c6b-88ae-c31dab3d4a47"
      },
      "source": [
        "print(frauds)"
      ],
      "execution_count": null,
      "outputs": [
        {
          "output_type": "stream",
          "text": [
            "[[1.5748552e+07 0.0000000e+00 3.0670000e+01 1.2000000e+01 2.0000000e+00\n",
            "  8.0000000e+00 4.0000000e+00 2.0000000e+00 1.0000000e+00 1.0000000e+00\n",
            "  1.0000000e+00 0.0000000e+00 2.0000000e+00 2.2000000e+02 2.0000000e+01]\n",
            " [1.5705343e+07 0.0000000e+00 2.0330000e+01 1.0000000e+01 2.0000000e+00\n",
            "  8.0000000e+00 8.0000000e+00 1.0000000e+00 1.0000000e+00 1.0000000e+00\n",
            "  4.0000000e+00 0.0000000e+00 2.0000000e+00 5.0000000e+01 1.4660000e+03]\n",
            " [1.5771856e+07 0.0000000e+00 2.4500000e+01 1.2750000e+01 2.0000000e+00\n",
            "  8.0000000e+00 5.0000000e+00 4.7500000e+00 1.0000000e+00 1.0000000e+00\n",
            "  2.0000000e+00 0.0000000e+00 2.0000000e+00 7.3000000e+01 4.4500000e+02]\n",
            " [1.5773776e+07 0.0000000e+00 3.5420000e+01 1.2000000e+01 2.0000000e+00\n",
            "  1.1000000e+01 8.0000000e+00 1.4000000e+01 1.0000000e+00 1.0000000e+00\n",
            "  8.0000000e+00 0.0000000e+00 2.0000000e+00 0.0000000e+00 6.5910000e+03]\n",
            " [1.5791769e+07 0.0000000e+00 2.6920000e+01 1.3500000e+01 2.0000000e+00\n",
            "  1.1000000e+01 8.0000000e+00 5.0000000e+00 1.0000000e+00 1.0000000e+00\n",
            "  2.0000000e+00 0.0000000e+00 2.0000000e+00 0.0000000e+00 5.0010000e+03]\n",
            " [1.5776494e+07 0.0000000e+00 2.7420000e+01 1.4500000e+01 2.0000000e+00\n",
            "  1.4000000e+01 8.0000000e+00 3.0850000e+00 1.0000000e+00 1.0000000e+00\n",
            "  1.0000000e+00 0.0000000e+00 2.0000000e+00 1.2000000e+02 1.2000000e+01]\n",
            " [1.5789611e+07 0.0000000e+00 4.7750000e+01 8.0000000e+00 2.0000000e+00\n",
            "  8.0000000e+00 4.0000000e+00 7.8750000e+00 1.0000000e+00 1.0000000e+00\n",
            "  6.0000000e+00 1.0000000e+00 2.0000000e+00 0.0000000e+00 1.2610000e+03]\n",
            " [1.5809837e+07 0.0000000e+00 4.6080000e+01 3.0000000e+00 2.0000000e+00\n",
            "  8.0000000e+00 4.0000000e+00 2.3750000e+00 1.0000000e+00 1.0000000e+00\n",
            "  8.0000000e+00 1.0000000e+00 2.0000000e+00 3.9600000e+02 4.1600000e+03]\n",
            " [1.5811690e+07 0.0000000e+00 5.0080000e+01 1.2540000e+01 2.0000000e+00\n",
            "  6.0000000e+00 4.0000000e+00 2.2900000e+00 1.0000000e+00 1.0000000e+00\n",
            "  3.0000000e+00 1.0000000e+00 2.0000000e+00 1.5600000e+02 1.0000000e+00]\n",
            " [1.5815095e+07 0.0000000e+00 2.2580000e+01 1.0750000e+01 2.0000000e+00\n",
            "  1.1000000e+01 4.0000000e+00 4.1500000e-01 1.0000000e+00 1.0000000e+00\n",
            "  5.0000000e+00 1.0000000e+00 2.0000000e+00 0.0000000e+00 5.6100000e+02]\n",
            " [1.5759387e+07 0.0000000e+00 4.4170000e+01 6.6650000e+00 2.0000000e+00\n",
            "  1.1000000e+01 4.0000000e+00 7.3750000e+00 1.0000000e+00 1.0000000e+00\n",
            "  3.0000000e+00 1.0000000e+00 2.0000000e+00 0.0000000e+00 1.0000000e+00]\n",
            " [1.5596797e+07 1.0000000e+00 2.8170000e+01 1.2500000e-01 1.0000000e+00\n",
            "  4.0000000e+00 4.0000000e+00 8.5000000e-02 0.0000000e+00 0.0000000e+00\n",
            "  0.0000000e+00 0.0000000e+00 2.0000000e+00 2.1600000e+02 2.1010000e+03]\n",
            " [1.5571415e+07 1.0000000e+00 3.7580000e+01 0.0000000e+00 2.0000000e+00\n",
            "  8.0000000e+00 4.0000000e+00 0.0000000e+00 0.0000000e+00 0.0000000e+00\n",
            "  0.0000000e+00 0.0000000e+00 3.0000000e+00 1.8400000e+02 1.0000000e+00]\n",
            " [1.5565714e+07 1.0000000e+00 4.2750000e+01 4.0850000e+00 2.0000000e+00\n",
            "  6.0000000e+00 4.0000000e+00 4.0000000e-02 0.0000000e+00 0.0000000e+00\n",
            "  0.0000000e+00 0.0000000e+00 2.0000000e+00 1.0800000e+02 1.0100000e+02]\n",
            " [1.5575438e+07 1.0000000e+00 4.1170000e+01 1.2500000e+00 1.0000000e+00\n",
            "  9.0000000e+00 4.0000000e+00 2.5000000e-01 0.0000000e+00 0.0000000e+00\n",
            "  0.0000000e+00 0.0000000e+00 2.0000000e+00 0.0000000e+00 1.9600000e+02]\n",
            " [1.5565996e+07 1.0000000e+00 2.6250000e+01 1.5400000e+00 2.0000000e+00\n",
            "  9.0000000e+00 4.0000000e+00 1.2500000e-01 0.0000000e+00 0.0000000e+00\n",
            "  0.0000000e+00 0.0000000e+00 2.0000000e+00 1.0000000e+02 1.0000000e+00]\n",
            " [1.5644400e+07 1.0000000e+00 3.4580000e+01 0.0000000e+00 2.0000000e+00\n",
            "  8.0000000e+00 4.0000000e+00 0.0000000e+00 0.0000000e+00 0.0000000e+00\n",
            "  0.0000000e+00 0.0000000e+00 3.0000000e+00 1.8400000e+02 1.0000000e+00]\n",
            " [1.5592914e+07 1.0000000e+00 2.0750000e+01 5.0850000e+00 1.0000000e+00\n",
            "  5.0000000e+00 4.0000000e+00 2.9000000e-01 0.0000000e+00 0.0000000e+00\n",
            "  0.0000000e+00 0.0000000e+00 2.0000000e+00 1.4000000e+02 1.8500000e+02]\n",
            " [1.5581871e+07 1.0000000e+00 1.6500000e+01 1.2500000e-01 2.0000000e+00\n",
            "  8.0000000e+00 4.0000000e+00 1.6500000e-01 0.0000000e+00 0.0000000e+00\n",
            "  0.0000000e+00 0.0000000e+00 2.0000000e+00 1.3200000e+02 1.0000000e+00]\n",
            " [1.5611973e+07 1.0000000e+00 1.8330000e+01 1.2100000e+00 1.0000000e+00\n",
            "  1.0000000e+01 2.0000000e+00 0.0000000e+00 0.0000000e+00 0.0000000e+00\n",
            "  0.0000000e+00 0.0000000e+00 2.0000000e+00 1.0000000e+02 1.0000000e+00]\n",
            " [1.5573077e+07 1.0000000e+00 4.4830000e+01 7.0000000e+00 1.0000000e+00\n",
            "  8.0000000e+00 4.0000000e+00 1.6250000e+00 0.0000000e+00 0.0000000e+00\n",
            "  0.0000000e+00 0.0000000e+00 2.0000000e+00 1.6000000e+02 3.0000000e+00]\n",
            " [1.5638272e+07 1.0000000e+00 3.3580000e+01 3.3500000e-01 1.0000000e+00\n",
            "  1.3000000e+01 4.0000000e+00 8.5000000e-02 0.0000000e+00 0.0000000e+00\n",
            "  0.0000000e+00 0.0000000e+00 2.0000000e+00 1.8000000e+02 1.0000000e+00]\n",
            " [1.5588019e+07 1.0000000e+00 4.7170000e+01 5.8350000e+00 2.0000000e+00\n",
            "  9.0000000e+00 4.0000000e+00 5.5000000e+00 0.0000000e+00 0.0000000e+00\n",
            "  0.0000000e+00 0.0000000e+00 2.0000000e+00 4.6500000e+02 1.5100000e+02]\n",
            " [1.5575146e+07 1.0000000e+00 3.9500000e+01 1.6250000e+00 2.0000000e+00\n",
            "  8.0000000e+00 4.0000000e+00 1.5000000e+00 0.0000000e+00 0.0000000e+00\n",
            "  0.0000000e+00 0.0000000e+00 2.0000000e+00 0.0000000e+00 3.1700000e+02]]\n"
          ],
          "name": "stdout"
        }
      ]
    },
    {
      "cell_type": "markdown",
      "metadata": {
        "id": "VCMWTRgS_lG8"
      },
      "source": [
        "# Printing the Fraunch Clients"
      ]
    },
    {
      "cell_type": "code",
      "metadata": {
        "colab": {
          "base_uri": "https://localhost:8080/"
        },
        "id": "kgEr6csB-5Bx",
        "outputId": "502ecbd0-abf2-4645-a54d-75b7823c10f9"
      },
      "source": [
        "print('Fraud Customer IDs')\n",
        "for i in frauds[:, 0]:\n",
        "  print(int(i))"
      ],
      "execution_count": null,
      "outputs": [
        {
          "output_type": "stream",
          "text": [
            "Fraud Customer IDs\n",
            "15748552\n",
            "15705343\n",
            "15771856\n",
            "15773776\n",
            "15791769\n",
            "15776494\n",
            "15789611\n",
            "15809837\n",
            "15811690\n",
            "15815095\n",
            "15759387\n",
            "15596797\n",
            "15571415\n",
            "15565714\n",
            "15575438\n",
            "15565996\n",
            "15644400\n",
            "15592914\n",
            "15581871\n",
            "15611973\n",
            "15573077\n",
            "15638272\n",
            "15588019\n",
            "15575146\n"
          ],
          "name": "stdout"
        }
      ]
    }
  ]
}