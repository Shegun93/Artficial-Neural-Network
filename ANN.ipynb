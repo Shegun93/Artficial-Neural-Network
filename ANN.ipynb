{
  "nbformat": 4,
  "nbformat_minor": 0,
  "metadata": {
    "colab": {
      "name": "Copy of Artificial Neural Network",
      "provenance": [],
      "collapsed_sections": [],
      "toc_visible": true,
      "include_colab_link": true
    },
    "kernelspec": {
      "name": "python3",
      "display_name": "Python 3"
    }
  },
  "cells": [
    {
      "cell_type": "markdown",
      "metadata": {
        "id": "view-in-github",
        "colab_type": "text"
      },
      "source": [
        "<a href=\"https://colab.research.google.com/github/Shegun93/Artficial-Neural-Network/blob/main/ANN.ipynb\" target=\"_parent\"><img src=\"https://colab.research.google.com/assets/colab-badge.svg\" alt=\"Open In Colab\"/></a>"
      ]
    },
    {
      "cell_type": "markdown",
      "metadata": {
        "id": "3cbb7fRy-eyr"
      },
      "source": [
        "# Artificial Neural Network"
      ]
    },
    {
      "cell_type": "markdown",
      "metadata": {
        "id": "8sNDnxE2-pwE"
      },
      "source": [
        "### Importing the libraries"
      ]
    },
    {
      "cell_type": "code",
      "metadata": {
        "id": "66ptVuNuHZBa"
      },
      "source": [
        "import pandas as pd\n",
        "import numpy as np\n",
        "import tensorflow as tf"
      ],
      "execution_count": null,
      "outputs": []
    },
    {
      "cell_type": "code",
      "metadata": {
        "colab": {
          "base_uri": "https://localhost:8080/",
          "height": 35
        },
        "id": "8QRkU6OZHuWv",
        "outputId": "a385253e-0f71-4ae5-95d0-8b9ab6f31407"
      },
      "source": [
        "tf.__version__"
      ],
      "execution_count": null,
      "outputs": [
        {
          "output_type": "execute_result",
          "data": {
            "application/vnd.google.colaboratory.intrinsic+json": {
              "type": "string"
            },
            "text/plain": [
              "'2.4.1'"
            ]
          },
          "metadata": {
            "tags": []
          },
          "execution_count": 2
        }
      ]
    },
    {
      "cell_type": "markdown",
      "metadata": {
        "id": "AG3FQEch-yuA"
      },
      "source": [
        "## Part 1 - Data Preprocessing"
      ]
    },
    {
      "cell_type": "markdown",
      "metadata": {
        "id": "-4zq8Mza_D9O"
      },
      "source": [
        "### Importing the dataset"
      ]
    },
    {
      "cell_type": "code",
      "metadata": {
        "id": "kGHFUfP7IS4J"
      },
      "source": [
        "dataset = pd.read_excel('Folds5x2_pp.xlsx')\n",
        "X = dataset.iloc[:,:-1].values\n",
        "y = dataset.iloc[:,-1].values"
      ],
      "execution_count": null,
      "outputs": []
    },
    {
      "cell_type": "code",
      "metadata": {
        "colab": {
          "base_uri": "https://localhost:8080/"
        },
        "id": "67tMAUh6LY8h",
        "outputId": "9d584f7e-b447-4298-bbb8-e75aa3d752b3"
      },
      "source": [
        "print(X)"
      ],
      "execution_count": null,
      "outputs": [
        {
          "output_type": "stream",
          "text": [
            "[[  14.96   41.76 1024.07   73.17]\n",
            " [  25.18   62.96 1020.04   59.08]\n",
            " [   5.11   39.4  1012.16   92.14]\n",
            " ...\n",
            " [  31.32   74.33 1012.92   36.48]\n",
            " [  24.48   69.45 1013.86   62.39]\n",
            " [  21.6    62.52 1017.23   67.87]]\n"
          ],
          "name": "stdout"
        }
      ]
    },
    {
      "cell_type": "code",
      "metadata": {
        "colab": {
          "base_uri": "https://localhost:8080/"
        },
        "id": "tUf19GkLLar8",
        "outputId": "d306db58-b9a5-42ff-c00e-ae0be48912fc"
      },
      "source": [
        "print(y)"
      ],
      "execution_count": null,
      "outputs": [
        {
          "output_type": "stream",
          "text": [
            "[463.26 444.37 488.56 ... 429.57 435.74 453.28]\n"
          ],
          "name": "stdout"
        }
      ]
    },
    {
      "cell_type": "markdown",
      "metadata": {
        "id": "VC6omXel_Up0"
      },
      "source": [
        "### Splitting the dataset into the Training set and Test set"
      ]
    },
    {
      "cell_type": "code",
      "metadata": {
        "id": "-Nl89eTxLfSv"
      },
      "source": [
        "from sklearn.model_selection import train_test_split\n",
        "X_train, X_test, y_train, y_test = train_test_split(X,y, test_size=0.2, random_state=0)"
      ],
      "execution_count": null,
      "outputs": []
    },
    {
      "cell_type": "markdown",
      "metadata": {
        "id": "_mSLlAT9_eyI"
      },
      "source": [
        "## Part 2 - Building the ANN"
      ]
    },
    {
      "cell_type": "markdown",
      "metadata": {
        "id": "CsBULd_f_wLY"
      },
      "source": [
        "### Initializing the ANN"
      ]
    },
    {
      "cell_type": "code",
      "metadata": {
        "id": "cScUKF6QLzyI"
      },
      "source": [
        "ann = tf.keras.models.Sequential()"
      ],
      "execution_count": null,
      "outputs": []
    },
    {
      "cell_type": "markdown",
      "metadata": {
        "id": "iitAFJS_ABUn"
      },
      "source": [
        "### Adding the input layer and the first hidden layer"
      ]
    },
    {
      "cell_type": "code",
      "metadata": {
        "id": "SOo-kmr0L-un"
      },
      "source": [
        "ann.add(tf.keras.layers.Dense(units=6, activation='relu'))"
      ],
      "execution_count": null,
      "outputs": []
    },
    {
      "cell_type": "markdown",
      "metadata": {
        "id": "-lb4kK_wAKbs"
      },
      "source": [
        "### Adding the second hidden layer"
      ]
    },
    {
      "cell_type": "code",
      "metadata": {
        "id": "XDB3hVudQwO-"
      },
      "source": [
        "ann.add(tf.keras.layers.Dense(units=6, activation='relu'))"
      ],
      "execution_count": null,
      "outputs": []
    },
    {
      "cell_type": "markdown",
      "metadata": {
        "id": "jwMOmKb3AdBY"
      },
      "source": [
        "### Adding the output layer"
      ]
    },
    {
      "cell_type": "code",
      "metadata": {
        "id": "caB4O3HuRJAq"
      },
      "source": [
        "ann.add(tf.keras.layers.Dense(units=1))"
      ],
      "execution_count": null,
      "outputs": []
    },
    {
      "cell_type": "markdown",
      "metadata": {
        "id": "fq7e4fF6A1yy"
      },
      "source": [
        "## Part 3 - Training the ANN"
      ]
    },
    {
      "cell_type": "markdown",
      "metadata": {
        "id": "qDeylAs2An25"
      },
      "source": [
        "### Compiling the ANN"
      ]
    },
    {
      "cell_type": "code",
      "metadata": {
        "id": "Z_5AePwqT34K"
      },
      "source": [
        "ann.compile(optimizer='adam', loss='mean_squared_error')"
      ],
      "execution_count": null,
      "outputs": []
    },
    {
      "cell_type": "markdown",
      "metadata": {
        "id": "YjVuiybYOo7r"
      },
      "source": [
        "### Training the ANN model on the Training set"
      ]
    },
    {
      "cell_type": "code",
      "metadata": {
        "colab": {
          "base_uri": "https://localhost:8080/"
        },
        "id": "0dMTBx2PV4s_",
        "outputId": "f83fe51e-fd64-4970-a6df-11e5d535652d"
      },
      "source": [
        "ann.fit(X_train, y_train, batch_size=32, epochs=100)"
      ],
      "execution_count": null,
      "outputs": [
        {
          "output_type": "stream",
          "text": [
            "Epoch 1/100\n",
            "240/240 [==============================] - 1s 1ms/step - loss: 75758.5282\n",
            "Epoch 2/100\n",
            "240/240 [==============================] - 0s 1ms/step - loss: 101.5972\n",
            "Epoch 3/100\n",
            "240/240 [==============================] - 0s 1ms/step - loss: 97.6108\n",
            "Epoch 4/100\n",
            "240/240 [==============================] - 0s 1ms/step - loss: 89.7116\n",
            "Epoch 5/100\n",
            "240/240 [==============================] - 0s 1ms/step - loss: 79.6658\n",
            "Epoch 6/100\n",
            "240/240 [==============================] - 0s 1ms/step - loss: 75.7258\n",
            "Epoch 7/100\n",
            "240/240 [==============================] - 0s 1ms/step - loss: 67.6013\n",
            "Epoch 8/100\n",
            "240/240 [==============================] - 0s 1ms/step - loss: 60.1204\n",
            "Epoch 9/100\n",
            "240/240 [==============================] - 0s 1ms/step - loss: 53.3360\n",
            "Epoch 10/100\n",
            "240/240 [==============================] - 0s 1ms/step - loss: 48.4494\n",
            "Epoch 11/100\n",
            "240/240 [==============================] - 0s 1ms/step - loss: 42.5313\n",
            "Epoch 12/100\n",
            "240/240 [==============================] - 0s 1ms/step - loss: 39.3203\n",
            "Epoch 13/100\n",
            "240/240 [==============================] - 0s 1ms/step - loss: 37.0722\n",
            "Epoch 14/100\n",
            "240/240 [==============================] - 0s 1ms/step - loss: 34.4650\n",
            "Epoch 15/100\n",
            "240/240 [==============================] - 0s 991us/step - loss: 33.3289\n",
            "Epoch 16/100\n",
            "240/240 [==============================] - 0s 1ms/step - loss: 33.5428\n",
            "Epoch 17/100\n",
            "240/240 [==============================] - 0s 1ms/step - loss: 30.8343\n",
            "Epoch 18/100\n",
            "240/240 [==============================] - 0s 1ms/step - loss: 30.8413\n",
            "Epoch 19/100\n",
            "240/240 [==============================] - 0s 1ms/step - loss: 31.7322\n",
            "Epoch 20/100\n",
            "240/240 [==============================] - 0s 998us/step - loss: 30.5948\n",
            "Epoch 21/100\n",
            "240/240 [==============================] - 0s 1ms/step - loss: 31.5615\n",
            "Epoch 22/100\n",
            "240/240 [==============================] - 0s 1ms/step - loss: 30.1719\n",
            "Epoch 23/100\n",
            "240/240 [==============================] - 0s 1ms/step - loss: 30.1623\n",
            "Epoch 24/100\n",
            "240/240 [==============================] - 0s 1ms/step - loss: 29.0212\n",
            "Epoch 25/100\n",
            "240/240 [==============================] - 0s 1ms/step - loss: 29.2955\n",
            "Epoch 26/100\n",
            "240/240 [==============================] - 0s 1ms/step - loss: 30.0232\n",
            "Epoch 27/100\n",
            "240/240 [==============================] - 0s 1ms/step - loss: 30.0491\n",
            "Epoch 28/100\n",
            "240/240 [==============================] - 0s 1ms/step - loss: 29.4267\n",
            "Epoch 29/100\n",
            "240/240 [==============================] - 0s 1ms/step - loss: 29.1091\n",
            "Epoch 30/100\n",
            "240/240 [==============================] - 0s 1ms/step - loss: 29.9865\n",
            "Epoch 31/100\n",
            "240/240 [==============================] - 0s 1ms/step - loss: 29.2738\n",
            "Epoch 32/100\n",
            "240/240 [==============================] - 0s 1ms/step - loss: 29.1968\n",
            "Epoch 33/100\n",
            "240/240 [==============================] - 0s 1ms/step - loss: 30.0513\n",
            "Epoch 34/100\n",
            "240/240 [==============================] - 0s 1ms/step - loss: 28.6238\n",
            "Epoch 35/100\n",
            "240/240 [==============================] - 0s 1ms/step - loss: 28.1777\n",
            "Epoch 36/100\n",
            "240/240 [==============================] - 0s 1ms/step - loss: 27.6285\n",
            "Epoch 37/100\n",
            "240/240 [==============================] - 0s 1ms/step - loss: 28.0361\n",
            "Epoch 38/100\n",
            "240/240 [==============================] - 0s 1ms/step - loss: 28.4343\n",
            "Epoch 39/100\n",
            "240/240 [==============================] - 0s 985us/step - loss: 29.3467\n",
            "Epoch 40/100\n",
            "240/240 [==============================] - 0s 1ms/step - loss: 28.7974\n",
            "Epoch 41/100\n",
            "240/240 [==============================] - 0s 1ms/step - loss: 26.5389\n",
            "Epoch 42/100\n",
            "240/240 [==============================] - 0s 1ms/step - loss: 27.0824\n",
            "Epoch 43/100\n",
            "240/240 [==============================] - 0s 1ms/step - loss: 29.3357\n",
            "Epoch 44/100\n",
            "240/240 [==============================] - 0s 1ms/step - loss: 27.8032\n",
            "Epoch 45/100\n",
            "240/240 [==============================] - 0s 1ms/step - loss: 27.9338\n",
            "Epoch 46/100\n",
            "240/240 [==============================] - 0s 1ms/step - loss: 29.0866\n",
            "Epoch 47/100\n",
            "240/240 [==============================] - 0s 1ms/step - loss: 27.4844\n",
            "Epoch 48/100\n",
            "240/240 [==============================] - 0s 1ms/step - loss: 28.1915\n",
            "Epoch 49/100\n",
            "240/240 [==============================] - 0s 1ms/step - loss: 26.3508\n",
            "Epoch 50/100\n",
            "240/240 [==============================] - 0s 1ms/step - loss: 27.6222\n",
            "Epoch 51/100\n",
            "240/240 [==============================] - 0s 1ms/step - loss: 27.3590\n",
            "Epoch 52/100\n",
            "240/240 [==============================] - 0s 1ms/step - loss: 28.5739\n",
            "Epoch 53/100\n",
            "240/240 [==============================] - 0s 1ms/step - loss: 27.5167\n",
            "Epoch 54/100\n",
            "240/240 [==============================] - 0s 970us/step - loss: 26.2885\n",
            "Epoch 55/100\n",
            "240/240 [==============================] - 0s 1ms/step - loss: 29.1752\n",
            "Epoch 56/100\n",
            "240/240 [==============================] - 0s 1ms/step - loss: 26.3704\n",
            "Epoch 57/100\n",
            "240/240 [==============================] - 0s 1ms/step - loss: 28.8540\n",
            "Epoch 58/100\n",
            "240/240 [==============================] - 0s 1ms/step - loss: 27.4746\n",
            "Epoch 59/100\n",
            "240/240 [==============================] - 0s 1ms/step - loss: 27.5906\n",
            "Epoch 60/100\n",
            "240/240 [==============================] - 0s 1ms/step - loss: 27.4740\n",
            "Epoch 61/100\n",
            "240/240 [==============================] - 0s 1ms/step - loss: 27.7353\n",
            "Epoch 62/100\n",
            "240/240 [==============================] - 0s 999us/step - loss: 28.8193\n",
            "Epoch 63/100\n",
            "240/240 [==============================] - 0s 1ms/step - loss: 28.0324\n",
            "Epoch 64/100\n",
            "240/240 [==============================] - 0s 1ms/step - loss: 28.6575\n",
            "Epoch 65/100\n",
            "240/240 [==============================] - 0s 1ms/step - loss: 29.2506\n",
            "Epoch 66/100\n",
            "240/240 [==============================] - 0s 1ms/step - loss: 28.6767\n",
            "Epoch 67/100\n",
            "240/240 [==============================] - 0s 1ms/step - loss: 26.5842\n",
            "Epoch 68/100\n",
            "240/240 [==============================] - 0s 1ms/step - loss: 28.2838\n",
            "Epoch 69/100\n",
            "240/240 [==============================] - 0s 1ms/step - loss: 29.6233\n",
            "Epoch 70/100\n",
            "240/240 [==============================] - 0s 1ms/step - loss: 29.5005\n",
            "Epoch 71/100\n",
            "240/240 [==============================] - 0s 1ms/step - loss: 27.4851\n",
            "Epoch 72/100\n",
            "240/240 [==============================] - 0s 1ms/step - loss: 28.8940\n",
            "Epoch 73/100\n",
            "240/240 [==============================] - 0s 1ms/step - loss: 30.1670\n",
            "Epoch 74/100\n",
            "240/240 [==============================] - 0s 1ms/step - loss: 27.8211\n",
            "Epoch 75/100\n",
            "240/240 [==============================] - 0s 1ms/step - loss: 27.4794\n",
            "Epoch 76/100\n",
            "240/240 [==============================] - 0s 1ms/step - loss: 28.0162\n",
            "Epoch 77/100\n",
            "240/240 [==============================] - 0s 1ms/step - loss: 28.3521\n",
            "Epoch 78/100\n",
            "240/240 [==============================] - 0s 1ms/step - loss: 29.4286\n",
            "Epoch 79/100\n",
            "240/240 [==============================] - 0s 1ms/step - loss: 28.8126\n",
            "Epoch 80/100\n",
            "240/240 [==============================] - 0s 1ms/step - loss: 27.1367\n",
            "Epoch 81/100\n",
            "240/240 [==============================] - 0s 1ms/step - loss: 27.8530\n",
            "Epoch 82/100\n",
            "240/240 [==============================] - 0s 1ms/step - loss: 32.0715\n",
            "Epoch 83/100\n",
            "240/240 [==============================] - 0s 1ms/step - loss: 27.7187\n",
            "Epoch 84/100\n",
            "240/240 [==============================] - 0s 1ms/step - loss: 27.5148\n",
            "Epoch 85/100\n",
            "240/240 [==============================] - 0s 1ms/step - loss: 27.0063\n",
            "Epoch 86/100\n",
            "240/240 [==============================] - 0s 1ms/step - loss: 27.7556\n",
            "Epoch 87/100\n",
            "240/240 [==============================] - 0s 1ms/step - loss: 26.0359\n",
            "Epoch 88/100\n",
            "240/240 [==============================] - 0s 1ms/step - loss: 26.5900\n",
            "Epoch 89/100\n",
            "240/240 [==============================] - 0s 976us/step - loss: 26.3527\n",
            "Epoch 90/100\n",
            "240/240 [==============================] - 0s 1ms/step - loss: 27.7260\n",
            "Epoch 91/100\n",
            "240/240 [==============================] - 0s 1ms/step - loss: 27.1791\n",
            "Epoch 92/100\n",
            "240/240 [==============================] - 0s 1ms/step - loss: 27.3486\n",
            "Epoch 93/100\n",
            "240/240 [==============================] - 0s 1ms/step - loss: 27.6725\n",
            "Epoch 94/100\n",
            "240/240 [==============================] - 0s 991us/step - loss: 26.6102\n",
            "Epoch 95/100\n",
            "240/240 [==============================] - 0s 1ms/step - loss: 28.6899\n",
            "Epoch 96/100\n",
            "240/240 [==============================] - 0s 1ms/step - loss: 27.2704\n",
            "Epoch 97/100\n",
            "240/240 [==============================] - 0s 1ms/step - loss: 26.1859\n",
            "Epoch 98/100\n",
            "240/240 [==============================] - 0s 1ms/step - loss: 26.9316\n",
            "Epoch 99/100\n",
            "240/240 [==============================] - 0s 1ms/step - loss: 26.8539\n",
            "Epoch 100/100\n",
            "240/240 [==============================] - 0s 1ms/step - loss: 28.9523\n"
          ],
          "name": "stdout"
        },
        {
          "output_type": "execute_result",
          "data": {
            "text/plain": [
              "<tensorflow.python.keras.callbacks.History at 0x7f4b4a6559d0>"
            ]
          },
          "metadata": {
            "tags": []
          },
          "execution_count": 12
        }
      ]
    },
    {
      "cell_type": "markdown",
      "metadata": {
        "id": "0H0zKKNEBLD5"
      },
      "source": [
        "### Predicting the results of the Test set"
      ]
    },
    {
      "cell_type": "code",
      "metadata": {
        "colab": {
          "base_uri": "https://localhost:8080/"
        },
        "id": "1cPBrJ6SXmYs",
        "outputId": "fd53e67b-0d2d-438d-dc88-ea593cad3621"
      },
      "source": [
        "y_pred = ann.predict(X_test)\n",
        "np.set_printoptions(precision=2)\n",
        "print(np.concatenate((y_pred.reshape(len(y_pred), 1), y_test.reshape(len(y_test),1)), 1))"
      ],
      "execution_count": null,
      "outputs": [
        {
          "output_type": "stream",
          "text": [
            "[[433.94 431.23]\n",
            " [464.91 460.01]\n",
            " [468.34 461.14]\n",
            " ...\n",
            " [475.65 473.26]\n",
            " [442.42 438.  ]\n",
            " [461.61 463.28]]\n"
          ],
          "name": "stdout"
        }
      ]
    }
  ]
}